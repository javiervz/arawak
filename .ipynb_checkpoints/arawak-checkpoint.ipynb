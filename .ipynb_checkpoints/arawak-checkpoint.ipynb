{
 "cells": [
  {
   "cell_type": "markdown",
   "metadata": {},
   "source": [
    "# Networks and Laplacian Spectrum: a case study on the Arawakan linguistic family "
   ]
  },
  {
   "cell_type": "markdown",
   "metadata": {},
   "source": [
    "## (1) Lenguas de la Américas\n",
    "### Extraemos las lenguas de América del Sur y de América del Norte desde los datos de Glottolog\n",
    "### https://glottolog.org/meta/downloads"
   ]
  },
  {
   "cell_type": "code",
   "execution_count": 17,
   "metadata": {},
   "outputs": [],
   "source": [
    "## usamos pandas para leer .csv\n",
    "\n",
    "import pandas as pd "
   ]
  },
  {
   "cell_type": "code",
   "execution_count": 18,
   "metadata": {},
   "outputs": [],
   "source": [
    "## clasificación por macroárea \n",
    "\n",
    "macroarea = pd.read_csv('languages_and_dialects_geo.csv',sep=',')"
   ]
  },
  {
   "cell_type": "code",
   "execution_count": 19,
   "metadata": {},
   "outputs": [],
   "source": [
    "## borramos donde no hay datos (NaN)\n",
    "\n",
    "macroarea.dropna(inplace = True)"
   ]
  },
  {
   "cell_type": "code",
   "execution_count": 20,
   "metadata": {},
   "outputs": [],
   "source": [
    "## nos quedamos con un dataframe con dos columnas: iso vs macroárea\n",
    "\n",
    "macroarea = macroarea[['isocodes','macroarea']]"
   ]
  },
  {
   "cell_type": "code",
   "execution_count": 21,
   "metadata": {},
   "outputs": [],
   "source": [
    "## transformamos los datos en un diccionario iso:macroarea\n",
    "## filtramos por macroarea 'South America' y 'North America'\n",
    "\n",
    "macroarea = dict(zip(macroarea['isocodes'], macroarea['macroarea']))\n",
    "macroarea = {language:macroarea[language] for language in macroarea.keys() if macroarea[language] in ['South America','North America']}"
   ]
  },
  {
   "cell_type": "code",
   "execution_count": 22,
   "metadata": {},
   "outputs": [
    {
     "name": "stdout",
     "output_type": "stream",
     "text": [
      "número de lenguas: 1208\n"
     ]
    }
   ],
   "source": [
    "## ¿cuántas lenguas tenemos?\n",
    "\n",
    "print('número de lenguas: '+str(len(macroarea.keys())))"
   ]
  },
  {
   "cell_type": "code",
   "execution_count": 24,
   "metadata": {},
   "outputs": [],
   "source": [
    "## de este conjunto de 1208 lenguas, filtramos las que están en el corpus UDHR\n",
    "## https://www.unicode.org/udhr/index.html\n",
    "\n",
    "languages={}\n",
    "\n",
    "for language in macroarea.keys():\n",
    "    #with open('udhr_' + language + '.txt', 'r', encoding='utf-8') as file:\n",
    "    try: \n",
    "        file = open('udhr/'+'udhr_'+language+'.txt', 'r')  \n",
    "        language_text=file.read().split('\\n')\n",
    "        languages[language]=[line.strip() for line in language_text]\n",
    "        languages[language]=[line for line in languages[language] if len(line)>0]\n",
    "    except FileNotFoundError:\n",
    "        pass"
   ]
  },
  {
   "cell_type": "code",
   "execution_count": 25,
   "metadata": {},
   "outputs": [
    {
     "name": "stdout",
     "output_type": "stream",
     "text": [
      "85\n"
     ]
    }
   ],
   "source": [
    "## nuevo número de lenguas :)\n",
    "\n",
    "print(len(languages))"
   ]
  },
  {
   "cell_type": "code",
   "execution_count": 27,
   "metadata": {},
   "outputs": [
    {
     "data": {
      "text/plain": [
       "['Universal Declaration of Human Rights - Mapudungun',\n",
       " '© 1996 – 2009 The Office of the High Commissioner for Human Rights',\n",
       " 'This plain text version prepared by the “UDHR in Unicode”',\n",
       " 'project, https://www.unicode.org/udhr.',\n",
       " '---',\n",
       " 'Kom Mapu Fijke Az Tañi Az Mogeleam',\n",
       " 'Tuwvlzugun',\n",
       " '(\"Preámbulo\" pi ta wigka)',\n",
       " 'Kimnieel fij mapu mew tañi kimgen kvme felen kisugvnew felen xvr kvme mvlen. Tvfaci zugu ñi mvleken mvleyem yamvwvn ka xvr kvme nor felen kom pu reñmawke ce mew.',\n",
       " 'Gewenonmu yamuwvn, zuamgewenonmu kvme felen, goymagenmu nor felen mvley re jazkvnkawvn: Fey mew mvley xvrvmzugu kom pu ce tañi kvme mogeleam kisuke ñi feyentun mew, kisu ñi rakizuam mew ka ñi wimtun mew ñi mvleal egvn.']"
      ]
     },
     "execution_count": 27,
     "metadata": {},
     "output_type": "execute_result"
    }
   ],
   "source": [
    "## mapudungun :)\n",
    "## solo imprimimos los primeros 10 elementos de la lista\n",
    "\n",
    "languages['arn'][:10]"
   ]
  },
  {
   "cell_type": "markdown",
   "metadata": {},
   "source": [
    "### Descripción del corpus"
   ]
  },
  {
   "cell_type": "code",
   "execution_count": 32,
   "metadata": {},
   "outputs": [],
   "source": [
    "## dos funciones que permiten \"limpiar\" los datos con el fin de construir redes.\n",
    "## la primera tokeniza strings. Usamos como definición de palabra como la cadena de caracteres entre dos espacios en blanco. \n",
    "## la segunda (i) elimina símbolos raros, elimina espacios vacíos, elimina números y remueve los encabezados\n",
    "\n",
    "def tokenize(s):\n",
    "    return s.split(' ')\n",
    "\n",
    "def clean(L):\n",
    "    language=languages[L]\n",
    "    table = str.maketrans({key: None for key in '``!\"#$%&\\¿()*+,-./:;<=>?@[\\\\]_{|}'})\n",
    "    language=[list(filter(None, [w.lower().translate(table) for w in tokenize(sentence)])) for sentence in language if len([w.lower() for w in [w.translate(table) for w in tokenize(sentence)]])>0]\n",
    "    language=[[w for w in s if w!=\"''\"] for s in language] \n",
    "    language=[[w for w in s if w!='̃'] for s in language] \n",
    "    language=[[w for w in s if not w.isdigit()] for s in language]\n",
    "    if L=='zro':\n",
    "        return language[6:]\n",
    "    elif L=='tca':\n",
    "        return language[7:]\n",
    "    elif L=='gyr':\n",
    "        return language[9:]\n",
    "    else:\n",
    "        return language[5:]"
   ]
  },
  {
   "cell_type": "code",
   "execution_count": 33,
   "metadata": {},
   "outputs": [],
   "source": [
    "## aplicamos las funciones anteriores.\n",
    "\n",
    "clean_languages={}\n",
    "for language in languages:\n",
    "    clean_languages[language]=clean(language)"
   ]
  },
  {
   "cell_type": "code",
   "execution_count": 34,
   "metadata": {},
   "outputs": [
    {
     "name": "stdout",
     "output_type": "stream",
     "text": [
      "acu ['kintati', 'diciembre', 'nantuti', 'musachtin', 'apu', 'ainau', 'iruntrar', 'tu', 'aarmi', 'tusar', 'nunia', 'aarar', 'mash', 'nungkanam', 'pujuinau', 'angkan', 'pengker', 'pujusarti', 'tusar', 'aararmiayi']\n",
      "agr ['ashi', 'aents', 'yakat', 'muun', 'aidaunmaya', 'ijunjamunum', 'tsawan', 'de', 'diciembre', 'tin', 'etsejau', 'ainawai', 'juju', 'ashi', 'aents', 'aidaunum', 'uminkatin', 'ati', 'tusa', 'nunu', 'tsawantai', 'jintiajajui', 'chichaman', 'dutika', 'ashi', 'nugkanum', 'iwainaju', 'ainawai', 'aents', 'nii', 'anentaibau', 'nii', 'wakejamu', 'yupichu', 'dutikashmin', 'chichajamunum', 'ayamkagtaun', 'tuja', 'tiaju', 'ainawai', 'juju', 'chicham', 'pegkeg', 'jintiagmawa', 'juka', 'juwig', 'nagkankashti', 'ashi', 'nugkanum', 'dapampaejati', 'yakat', 'muun', 'aidaunum', 'yakat', 'piipich', 'aidaunmashkam', 'papi', 'aujtainmash', 'ashi', 'tutinjati', 'tiajui', 'tuja', 'papinum', 'agajag', 'sujuktinme', 'tiajui', 'ashi', 'aents', 'aidau', 'aujus', 'dekatnume', 'tusa', 'makichkish', 'ugkamuk', 'atsuti', 'tiajui']\n",
      "amc ['preamble']\n",
      "amr [\"oro'\", 'huairi', 'in', \"o'nopoe̱po\", \"o'nigmadoya'ne\"]\n",
      "qva ['runakuna', 'respetachikunanpaq', 'ley', 'rurapäkonqan', 'kaynuymi', 'qalaykunan']\n",
      "arl ['pueya', 'rerejoquiaari', 'pocoojonura', 'puetunu', 'jiyajinijiniojuanaa', 'na', 'jiyaniijianucua', 'na', 'iyaronuuquiaari', 'nojori', 'niishiriojonura', 'taa', 'pa', 'miishiya', 'maniniani', 'pueyaracaanu', 'niishiriojoriquiaria', 'na', 'nuhuaji', 'el', 'de', 'diciembre', 'de', 'nayojo', 'quiaariiri', 'nojori', 'niishiriojosano', 'niya', 'quiya', 'puetunu', 'na', 'sequesanojuanaa', 'cutara', 'maninia', 'na', 'sequesano']\n",
      "qxu ['hatun', 'willay', 'derechonchiskunamanta', 'llapan', 'runapaq']\n",
      "cni ['timatsi', 'cameetsatatsiri', 'acoajeitaqueri', 'te', 'oncameetsateji', 'intsaneemparo']\n",
      "prq ['de', 'diciembre', 'de', 'anu', 'xanen', 'ibu', 'ichapa', 'ichaxun', 'na', 'jancha', 'kenenibuki', 'xanen', 'ibu', 'tibin', 'javen', 'nabu', 'jau', 'yuinunven', 'na', 'janchadan']\n",
      "kwi ['minmurus', 'wantaawaruspa']\n",
      "quy ['chunka', 'punchaw', 'diciembre', 'killapim', 'watapi', 'hukllawasqa', 'nacionkuna', 'huñunakuspanku', 'allinmi', 'nirqaku', 'hinaspam', 'reqsichirqaku', 'runakunapa', 'lliw', 'derechonkunata', 'chaymi', 'kay', 'librochapi', 'tukuy', 'nisqanku', 'kachkan']\n",
      "qug ['runakunapak', 'hayñita', 'willay']\n",
      "boa ['muhdú', 'pámeere', 'páné', 'iiñújɨri', 'ijcyáné', 'mɨ́amúnaa', 'meíjcyáiyóne']\n",
      "qvc ['universal', 'declaration', 'of', 'human', 'rights']\n",
      "qud ['tucuy', 'runacunapac', 'hatum', 'rimay']\n",
      "cbu ['in', 'kirak', 'tsaporonasosh', 'tpots', 'ichigoro', 'vanasir', 'tapana', 'sampata', 'mantsir', 'tarintspaatcha']\n",
      "cot ['ovegarataca', 'de', 'diciembre', 'icapiocajiaca', 'oshequini', 'caquintepae', 'poneaguetanquitsica', 'maasano', 'quepatsipaequi', 'icantajitiri', 'la', 'asamblea', 'general', 'de', 'las', 'naciones', 'unidas', 'iriojiaqueate', 'capiocajianquitsi', 'itigancanepae', 'imajirotejia', 'iriatimpa', 'ivetsatacojiacaroqueate', 'tioncanentsipae', 'tioncanquitsica', 'acaniqui', 'paperiqui', 'icanque', 'ocameetsataque', 'antajiaquero', 'maasano', 'ocatica', 'itioncacotaqueca', 'tee', 'oncameetsateji', 'inchoocataque', 'tsaneapi', 'tsatacaj', 'ironeca', 'aisa', 'icanque', 'ocameetsataque', 'antioncajiaqueneri', 'maasanovio', 'caquintepae', 'iguenquetsatsarequi', 'iriatimpa', 'intsaj', 'iaquenij', 'i', 'te', 'ocameetsataque', 'avaraaquero', 'quereocagueti', 'ichoocajiguigueti', 'caquinte', 'ontaniqui', 'iquintenipaequi', 'shicoipaequi', 'querocagueti', 'ocameetsataquequeate', 'antsatacaajiaqueri', 'maasano', 'agonoropae', 'cantaguetanquitsica', 'ocaniqui', 'tioncanentsiqui', 'intsamajajiaqueronijite']\n",
      "hns ['aadmi', 'ke', 'hak', 'ka', 'kahna', 'djaun', 'sab', 'manai', 'djaun', 'doeniya', 'me', 'rehe', 'ke', 'khatien', 'hai']\n",
      "cbr ['a', 'ñucama', 'sinanxun', 'ca', 'axa', 'anu', 'timëcë', 'unicaman', 'ësaquin', 'caxa']\n",
      "cbs ['javada', 'junibun', 'mal', 'dasibí', 'aun', 'akaibun', 'jatu', 'nematidubumaki']\n",
      "ayr ['akapach', 'jaqe', 'walinkañapataki', 'inoqat', 'aru']\n",
      "maz ['jña', \"'a\", 'yo', 'pjosu̸', 'texe', 'ye', \"te̱'e̱\", 'nuyo', 'ka̸nra̸', 'a', 'xese', 'ne', 'xoñijomu']\n",
      "cbi ['entsa', 'tunu', 'naa', 'nuka', 'chulla', 'bain', 'muba', 'mubain', 'tsatsangenuu', 'deechu', 'detave', \"ti'\", 'tsandi', 'depañu', 'kuinda']\n",
      "cic ['hattak', 'mó̱ma', 'i̱holisso']\n",
      "csa [\"e'e\", 'jna', 'jau', 'la', 'kio', 'le', 'kö', 'mukuu', 'kio', 'nia', 'ne', 'kio', 'tsa', 'rüjnia']\n",
      "qxa ['llajtanchejnintinpaj', 'qhelqesqa', 'tukuy', 'runajpa', 'atiyninkuta', \"sut'inchaspa\"]\n",
      "zam ['rieti', 'yets']\n",
      "quz ['pachatin', 'llaqtakunapi', 'runaq', 'allin', 'kananpaq', 'jatun', 'kamachikuy']\n",
      "ike ['ᓯᓚᕐᔪᐊᕐᒥᐅᑦ', 'ᓇᓗᓇᐃᖅᓯᐅᑎᖓ', 'ᑭᓇᒃᑯᑐᐃᓐᓇᐃᑦ', 'ᐱᔪᓐᓇᐅᑎᖏᑦ']\n",
      "ese ['artículo']\n",
      "cab ['adamuridagunt', 'to', 'tagumairagüdaru', 'garada', 'to', 'ayanuhabaun', 'luagu', 'le', 'yubat', 'haun', 'gürigia', 'ubauwagu']\n",
      "gyr ['opakatu', 'ava', 'yoro’a', 'nda’ei', 'tembigwaigwa', 'oyoyatupri', 'sekotupri', 'vaëra', 'imboeteisara', 'oikatu', 'ipi’a', 'yemoñeta', 'imbaekua', 'ndiyai', 'yurekorairai', 'ñepëi', 'pëi', 'ambua', 'rese']\n",
      "ztu ['declarasyoony', \"xtee'n\", \"deree'ch\", \"xtee'\", \"ra'ta'\", 'buunny']\n",
      "qvh ['lapan', 'runakuna', 'imanawpa', 'rispitash', 'kayänanpaq', 'kashqankuna', 'kaynaw', 'nirmi', 'qalaykun']\n",
      "hus ['junkunal', 'bitsowtsik']\n",
      "qwh ['kaq', 'keymi', 'llapan', 'patsachow', 'imana', 'kaq', 'nunakunapapis', 'derechunkuna']\n",
      "mzi ['en', 'xi', 'tikon', 'ngasandie', 'xi', 'fijendajo', 'xuta']\n",
      "kal ['inuttut', 'pisinnaatitaaffiit', 'pillugit', 'silarsuarmioqatigiinnut', 'nalunaarut']\n",
      "cak [\"ruq'alajirisaxik\", 'chi', 'ruwäch', 'ronojel', \"ruwach'ulew\", 'ri', \"ruch'ojib'al\", \"ruk'aslen\", 'jun', 'winäq']\n",
      "kek ['li', 'xjultikankil', 'xwankilal', \"xloq'al\", 'li', 'poyanam', \"sa'\", \"ruchich'och'\"]\n",
      "quc [\"uq'alajisaxik\", 'pa', 'ronojel', 'uwachulew', 'ri', \"ya'talik\", \"kab'an\", 'pa', 'ri', \"k'aslemal\"]\n",
      "mam ['at', \"tu'malaal\", \"kopib'il\", \"twi'yalaal\", \"kaawb'il\", \"b'ix\", \"niinb'il\"]\n",
      "arn ['kom', 'mapu', 'fijke', 'az', 'tañi', 'az', 'mogeleam']\n",
      "qvm ['intëru', 'munducho', 'lapan', 'runakunapa', 'derëchunkunanta', 'wilakushqan']\n",
      "mcf ['endenquimbo', 'diez', 'de', 'deciembre', 'nidaid', 'abitedinoësh', 'matses', 'utsiutsiec', 'chochopanëdash', 'onquenuec', 'adec', 'chochoquid', 'naciones', 'unidas', 'capec']\n",
      "mxv [\"tnu'u\", 'saja', 'ní', 'ñayiví', 'ja', 'ñatu', 'na', \"sa'a\", \"ndeva'tna'a\", \"se'e\", \"kaka'an\", 'taka', 'ma', 'ñu', \"na'nu\"]\n",
      "ote ['xo', 'maa', 'nu', 'xijmojo̱i', 'nu', 'kuchti', \"kja'ni\"]\n",
      "mic ['mtul’katlku', 'wjit', 'koqwajo’taqann', 'mimajulnu’k', 'wejkuaqml’tlj']\n",
      "miq ['upla', 'sut', 'raitka', 'nani', 'ba', 'tasba', 'aiska', 'laka', 'ba', 'bapuia']\n",
      "huu ['nana', 'comɨnɨ', 'uri', 'illafue']\n",
      "nav ['beehazą́ą', 'ił', 'chʼétʼaah']\n",
      "not ['iraegul', 'botataigacha', 'icomantaiguiro', 'oca', 'nibarintsica']\n",
      "qxn ['kaymi', 'kan', 'llapan', 'munduchaw', 'imanaw', 'kaq', 'runakunapapis', 'dirichunkuna']\n",
      "qvn ['kay', 'pachachru', 'lapan', 'runakuna', 'washakurkaanapaq', 'iskirbishakuna', 'kaykunata', 'iskirbipaakuraa']\n",
      "ojb ['ᐯᒪᑎᓯᑦ', 'ᑌᐸᑫᑕᑯᓯᐎᓇᓐ', 'ᒥᓯᐌᑲᒥᒃ', 'ᐎᓐᑕᒪᑫᐎᓐ']\n",
      "chj [\"delaraciö'\", \"ki'\", 'derecho', 'h', \"ki'\", \"la'\", 'la', 'köö', 'jmu', 'guue', 'kíä', \"guía'\", \"su'\"]\n",
      "pbb ['nasa', \"ya'nwe'wewa'te\", 'naa', 'kiwete', 'uta', 'ipehksa', \"yuwe's\", \"newe'wen'i\", \"weh'a\"]\n",
      "top ['xlikgalhkaw', 'diciembre', 'ama', 'putum', 'tatamakxtumit', 'xala', 'naciones', 'unidas', 'matlanilh', 'chu', \"makgp'un\", 'tumilh', \"lata'\", 'tu', 'kaminini', \"lakch'ixkuwin\", 'xlitilanka', \"k'akilhtamaku\", 'nema', 'atapintsu', 'amaka', 'lichiwinankan', 'la', 'akgtum', 'wlika', 'tapuwan', 'kawanika', 'ama', 'pulataman', 'nema', 'tamakg', \"p'untumilh\", 'ama', \"limakgch'iwin\", \"katamak'atsi\", \"ninankg'olh\", \"katalikgalhtawakg'alh\", 'chu', 'katilakgalhchiwinalh', 'nak', 'tipakgatsi', 'pukgalhtawakga', 'nema', 'wi', 'nak', 'ama', 'pulataman']\n",
      "pap ['declaracion', 'universal', 'di', 'derecho', 'humano']\n",
      "gug ['tekove', 'yvypora', 'kuera', 'maymayva', 'derecho', 'kuaaukaha']\n",
      "cpu ['tsica', 'incantya', 'iraacameethayeetairi', 'atziripayeeni', 'jaca', 'quipatsiqui']\n",
      "ppl ['munextia', 'muchi', 'ipal', 'ne', 'tehtechan', 'tay', 'tupal']\n",
      "tsz ['uandakua', 'jurhimbekuecheri', \"k'uiripuecheri\", 'parhakpeni', 'anapu']\n",
      "sey ['siayëkemaca', 'siabai', 'këojëna', 'kayaye', \"kui'ne\", 'jëna', 'paiye', \"kawesose'epi\", 'siaye', 'tutu', 'paye', 'jai', 'tsutsupëa', 'ometëkana']\n",
      "mcd ['non', 'ahuuacaimain', 'huatiroquin', 'ishon', 'niaifofoan', 'ichanancashon', 'mato', 'cunushonifo']\n",
      "cbt ['de', 'diciembre', \"na'a\", \"hua'ano'sa'\", 'niyontonpi', 'nisha', 'nisha', \"copirno'sari\", \"a'parin\", 'ninontacaiso', \"marë'\", \"ya'ipi\", \"piyapi'sa'\", 'noya', 'ya', \"huëina'\", \"ta'caiso\", \"marë'\", 'ninontopi', 'ninontohuachinara', 'iso', 'quirica', 'ninshitopi', 'nisha', 'nisha', 'nananquë', \"ninshitoco'\", \"ya'ipi\", 'parti', \"a'paco'\", \"ya'ipi\", 'piyapi', 'nitotacaiso', \"marë'\", 'topi', 'piyapi', 'niyontonpachina', 'sha', \"'huichina'\", \"escuelarn'saquë\", 'a', \"'chinchina'\", 'topi']\n",
      "shp ['jatibiainoa', 'joní', 'coshibaon', 'jascaashon', 'jacon', 'jahuequl', 'aresti', 'jonibaon', 'jahuequescamabí', 'itiaquin', 'shinana']\n",
      "jiv ['aentsu', 'niniurin', 'chichame', 'mashiniu', 'amiktin']\n",
      "snn [\"sia'yëquëmaca\", \"sia'bai\", 'guëojëñacayaye', \"gui'ne\", 'jëña']\n",
      "csw ['ᐁᐢᐱᑕᐢᑲᒥᑲᐠ', 'ᐊᐢᑭᐠ', 'ᑭᒋ', 'ᐃᑗᐎᐣ', 'ᐃᓂᓂᐎ', 'ᒥᓂᑯᐎᓯᐎᓇ', 'ᐅᒋ']\n",
      "tca ['nüxü̃', 'tacua̱xgü', 'rü', 'guxü̃ma', 'ĩ', 'duü̃xü̃gü', 'rü', 'nawüxigu', 'i', 'tupanape̱xewa', 'rü', 'tataxuma', 'ya', 'texé', 'i', 'togüarü', 'yexera', 'ixĩxẽ', 'rü', 'name', 'nixĩ', 'na', 'nataãẽgüxü̃', 'ĩ', 'guxü̃ma', 'ĩ', 'duü̃xü̃gü', 'rü', 'ngẽmaca̱x', 'tama', 'tanaxwa̱xe', 'i', 'texé', 'nüxü̃', 'tarüporamaẽ', 'ĩ', 'togü', 'i', 'duü̃xü̃gü', 'rü', 'e̱xna', 'chixri', 'namaã', 'tachopetü']\n",
      "nhn ['san', 'sejkaj', 'tlali', 'tlakamej', 'mopaleuiaj']\n",
      "tob ['na', 'nqataxacpi', 'na', \"ỹotta'a't\", 'shiỹaxauapi', 'mayi', 'netalec', 'ana', \"'alhua\"]\n",
      "toj ['spukjel', 'yi’b’anal', 'ja', 'jas', 'oj', 'b’ob’']\n",
      "mto ['jä', 'kojtsvijjün', 'jats', 'kojtsmëkin', 'juu’', 've’e', 'jayu', 'oy', 'tyukjööjtykap']\n",
      "cof ['jera', 'tote', 'piyanle', \"tsa'chilachi\", 'manta']\n",
      "tzh ['´syalji´bal', 'to', 'spamlel', 'te', 'beluk', 'ayku´untike', 'yu´un', 'jich', 'ya', 'jkoltabatika', 'te', 'jpisiltik', 'winikotike']\n",
      "ura ['niha', 'chatohanai', 'ne', 'raotojoeein', 'itarai', 'rucuecuruha', 'ne', 'jaannu', 'nain', 'aitiin', 'laeneratecure', 'la', 'asamblea', 'de', 'las', 'naciones', 'unidas', 'canaacaanu', 'que', 'cana', 'temurau', 'nenacaurucocoainanacaihuri', 'janoniha', 'disiembere', 'ne', 'bana', 'ajaanaa', 'ne', 'bana', 'nitohaneein', 'ichacuruhane', 'baihate', 'aitoroatecure', 'cana', 'temurau', 'nenacaurucocoainanacaihuri', 'itolere', 'sacutaain', 'escoela', 'cuhane', 'ereretaain', 'beebejeuruha', 'satiin', 'nerelanacaauru', 'leijiin', 'inejeein', 'cautelanaalane', 'coina']\n",
      "auc ['wadepo', 'wadepo', 'tomanani', 'beetente', 'ñene', 'ome', 'gote', 'tededanitapa', 'manomay']\n",
      "guc ['aküjia', \"sükua'ipa\", 'süchiki', 'süjutu', 'wayuu', \"sa'u\", 'mmakat']\n",
      "yad ['tuchoda', 'titaju', 'nijyanvajyu', 'vuryatidye', 'vichasara', 'samirya', 'variy']\n",
      "ame [\"arrpa'\", 'anaret', '̃allohuen', 'allpon', 'derechos', 'ñeñt', \"̃e'ñe\", \"po'ñoc̈h\", 'yocop', \"ñeñt̃cha'\", 'atet', \"yep̃a'yena\", 'allohueney', 'acheñeneshay', \"ama't\", 'errap̃aren', 'arr', 'patsro']\n",
      "guu ['totihitawë', 'thamotima', 'the', 'ã']\n",
      "yua ['u', 'dzaʼabal', 'kʼajóoltbil', 'u', 'noj', 'aʼalmaj', 'tʼaanil', 'u', 'najmal', 'wíinikoʼob']\n",
      "zro ['kawiriaja', 'kayapi', 'rikuanu', 'aparua', 'akasujunuka', 'kunumashira', 'kiniana', 'kayapuina', 'kunumashira', 'kiraka', 'rikuanu', 'kayapi']\n"
     ]
    }
   ],
   "source": [
    "## para cada ejemplo, mostramos cómo queda la primera oración. \n",
    "\n",
    "for language in clean_languages.keys():\n",
    "    print(language, clean_languages[language][0])"
   ]
  },
  {
   "cell_type": "code",
   "execution_count": 35,
   "metadata": {},
   "outputs": [
    {
     "name": "stdout",
     "output_type": "stream",
     "text": [
      "acu 92 1676 559\n",
      "agr 90 1811 827\n",
      "amc 87 1496 672\n",
      "amr 93 1407 421\n",
      "qva 92 1715 762\n",
      "arl 94 1973 530\n",
      "qxu 94 1124 542\n",
      "cni 92 1305 515\n",
      "prq 75 626 258\n",
      "kwi 202 1294 733\n",
      "quy 93 1279 645\n",
      "qug 239 1409 702\n",
      "boa 96 1567 704\n",
      "qvc 90 1153 599\n",
      "qud 91 933 456\n",
      "cbu 91 1290 574\n",
      "cot 94 1532 715\n",
      "hns 94 2221 490\n",
      "cbr 92 2204 542\n",
      "cbs 76 626 258\n",
      "ayr 91 925 610\n",
      "maz 91 1544 310\n",
      "cbi 100 3120 959\n",
      "cic 93 554 301\n",
      "csa 96 1699 425\n",
      "qxa 90 1477 738\n",
      "zam 95 1409 227\n",
      "quz 94 1128 664\n",
      "ike 70 857 620\n",
      "ese 68 763 529\n",
      "cab 94 1330 476\n",
      "gyr 78 1159 459\n",
      "ztu 92 1342 326\n",
      "qvh 90 1934 850\n",
      "hus 94 1554 335\n",
      "qwh 91 1326 606\n",
      "mzi 99 1250 570\n",
      "kal 91 1039 682\n",
      "cak 90 2514 454\n",
      "kek 91 1520 407\n",
      "quc 90 2171 501\n",
      "mam 91 1527 440\n",
      "arn 91 1712 390\n",
      "qvm 92 1373 642\n",
      "mcf 95 2373 600\n",
      "mxv 94 1336 396\n",
      "ote 91 1819 317\n",
      "mic 91 1330 573\n",
      "miq 85 1634 394\n",
      "huu 91 1294 385\n",
      "nav 91 1601 779\n",
      "not 91 1100 383\n",
      "qxn 89 1604 668\n",
      "qvn 90 1346 680\n",
      "ojb 93 1126 587\n",
      "chj 91 1683 423\n",
      "pbb 90 1467 700\n",
      "top 92 1554 571\n",
      "pap 90 1878 480\n",
      "gug 83 1154 576\n",
      "cpu 92 2352 862\n",
      "ppl 91 1856 354\n",
      "tsz 91 1279 542\n",
      "sey 94 1407 534\n",
      "mcd 93 906 458\n",
      "cbt 92 1122 483\n",
      "shp 96 2515 837\n",
      "jiv 94 1564 705\n",
      "snn 193 1458 531\n",
      "csw 70 1400 499\n",
      "tca 90 2017 390\n",
      "nhn 92 2357 601\n",
      "tob 91 2559 533\n",
      "toj 91 2190 515\n",
      "mto 82 1229 450\n",
      "cof 95 1228 424\n",
      "tzh 90 1991 514\n",
      "ura 90 1274 408\n",
      "auc 203 1454 376\n",
      "guc 93 1259 489\n",
      "yad 92 1144 602\n",
      "ame 94 2398 719\n",
      "guu 90 2071 391\n",
      "yua 91 2084 464\n",
      "zro 90 1274 264\n"
     ]
    }
   ],
   "source": [
    "## contamos palabras \n",
    "\n",
    "from collections import Counter\n",
    "\n",
    "words_entropy={}\n",
    "words={}\n",
    "mean_tokens={}\n",
    "mean_types={}\n",
    "for language in clean_languages.keys():\n",
    "    words_entropy[language]=[item for sublist in clean_languages[language] for item in sublist]\n",
    "    words[language]=[len([item for sublist in clean_languages[language] for item in sublist]),len(set([item for sublist in clean_languages[language] for item in sublist])),Counter([item for sublist in clean_languages[language] for item in sublist])]\n",
    "    mean_tokens[language]=len([item for sublist in clean_languages[language] for item in sublist])\n",
    "    mean_types[language]=len(set([item for sublist in clean_languages[language] for item in sublist]))\n",
    "    print(language,len(clean_languages[language]),len([item for sublist in clean_languages[language] for item in sublist]),len(set([item for sublist in clean_languages[language] for item in sublist])))"
   ]
  },
  {
   "cell_type": "markdown",
   "metadata": {},
   "source": [
    "## (2) Laplacian Spectrum\n",
    "### usamos redes para extraer rasgos de lenguas de las Américas. Nuestros rasgos son valores propios \n",
    "### https://en.wikipedia.org/wiki/Eigenvalues_and_eigenvectors"
   ]
  },
  {
   "cell_type": "code",
   "execution_count": null,
   "metadata": {},
   "outputs": [],
   "source": []
  }
 ],
 "metadata": {
  "kernelspec": {
   "display_name": "conda_python3",
   "language": "python",
   "name": "conda_python3"
  },
  "language_info": {
   "codemirror_mode": {
    "name": "ipython",
    "version": 3
   },
   "file_extension": ".py",
   "mimetype": "text/x-python",
   "name": "python",
   "nbconvert_exporter": "python",
   "pygments_lexer": "ipython3",
   "version": "3.6.5"
  }
 },
 "nbformat": 4,
 "nbformat_minor": 4
}
